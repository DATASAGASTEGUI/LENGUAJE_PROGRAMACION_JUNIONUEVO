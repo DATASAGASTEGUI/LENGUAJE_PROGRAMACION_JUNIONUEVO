{
 "cells": [
  {
   "cell_type": "markdown",
   "id": "6a17e81c-17a7-43cc-b8ee-803a1015f046",
   "metadata": {},
   "source": [
    "<center><span style=\"color:red; font-size:30px\">ESTRUCTURA CONDICIONAL</span></center>"
   ]
  },
  {
   "cell_type": "markdown",
   "id": "77556fb9-9e5c-49d0-ae9e-8bb19a54d06c",
   "metadata": {},
   "source": [
    "<span style=\"color:blue; font-size:15px\">EJEMPLO 1</span><br>\n",
    "Implementar cada compuerta logica (AND, OR, NOT, XOR, NAND, NOR) con una funcion."
   ]
  },
  {
   "cell_type": "code",
   "execution_count": 1,
   "id": "e7684c26-eee7-418a-82ab-9b61c9232250",
   "metadata": {},
   "outputs": [
    {
     "name": "stdout",
     "output_type": "stream",
     "text": [
      "0\n"
     ]
    }
   ],
   "source": [
    "def and_(a,b):\n",
    "    if a == 1 and b == 1:\n",
    "       return 1\n",
    "    else:\n",
    "       return 0\n",
    "\n",
    "def or_(a,b):\n",
    "    if a == 0 and b == 0:\n",
    "       return 0\n",
    "    else:\n",
    "       return 1\n",
    "\n",
    "def not_(a):\n",
    "    if a == 0:\n",
    "       return 1\n",
    "    else:\n",
    "       return 0\n",
    "\n",
    "def nand(a,b):\n",
    "    return not_(and_(a,b))\n",
    "\n",
    "def nor(a,b):\n",
    "    return not_(or_(a,b))\n",
    "\n",
    "def xor(a,b):\n",
    "    if a != b:\n",
    "       return 1\n",
    "    else:\n",
    "       return 0\n",
    "\n",
    "x = nand(1,1)\n",
    "print(x)\n",
    "    "
   ]
  },
  {
   "cell_type": "markdown",
   "id": "24c1e94d-99d1-4310-99a1-d1a7b4e0b4bb",
   "metadata": {},
   "source": [
    "<span style=\"color:blue; font-size:15px\">EJEMPLO 2</span><br>\n",
    "Implementar un circuito empleando las compuertas logicas del ejemplo 1.\n",
    "\n",
    "![Mi imagen](circuito_compuertas.png)"
   ]
  },
  {
   "cell_type": "code",
   "execution_count": 9,
   "id": "76dd4e85-63d6-4fd3-b411-55df561c72df",
   "metadata": {},
   "outputs": [
    {
     "name": "stdin",
     "output_type": "stream",
     "text": [
      "Ingresar entrada \"a\"? 0\n",
      "Ingresar entrada \"b\"? 0\n",
      "Ingresar entrada \"c\"? 0\n"
     ]
    },
    {
     "name": "stdout",
     "output_type": "stream",
     "text": [
      "Salida:  1\n"
     ]
    }
   ],
   "source": [
    "a = int(input('Ingresar entrada \"a\"?'))\n",
    "b = int(input('Ingresar entrada \"b\"?'))\n",
    "c = int(input('Ingresar entrada \"c\"?'))\n",
    "'''\n",
    "s1 = and_(a,b)\n",
    "s2 = nand(a,c)\n",
    "s3 = xor(s1,s2)\n",
    "s4 = not_(s2)\n",
    "s5 = or_(s3,s4)\n",
    "'''\n",
    "s5 = or_(xor(and_(a,b),nand(a,c)),not_(nand(a,c)))\n",
    "print(\"Salida: \",s5)              "
   ]
  },
  {
   "cell_type": "code",
   "execution_count": 14,
   "id": "378b3333-581d-452e-b096-8b9e6fcb3690",
   "metadata": {},
   "outputs": [
    {
     "name": "stdout",
     "output_type": "stream",
     "text": [
      "  a   b   c   out\n",
      "  0   0   0   1  \n",
      "  0   0   1   1  \n",
      "  0   1   0   1  \n",
      "  0   1   1   1  \n",
      "  1   0   0   1  \n",
      "  1   0   1   1  \n",
      "  1   1   0   0  \n",
      "  1   1   1   1  \n"
     ]
    }
   ],
   "source": [
    "bits = [0,1]\n",
    "print(\"%3s %3s %3s   %-3s\" % ('a', 'b', 'c', 'out'))\n",
    "for a in bits:\n",
    "    for b in bits:\n",
    "        for c in bits:\n",
    "            s = or_(xor(and_(a,b),nand(a,c)),not_(nand(a,c)))\n",
    "            print(\"%3d %3d %3d   %-3d\" % (a, b, c, s))"
   ]
  },
  {
   "cell_type": "code",
   "execution_count": null,
   "id": "f076c29c-05f9-46f9-972a-862e99eed309",
   "metadata": {},
   "outputs": [],
   "source": []
  }
 ],
 "metadata": {
  "kernelspec": {
   "display_name": "Python 3 (ipykernel)",
   "language": "python",
   "name": "python3"
  },
  "language_info": {
   "codemirror_mode": {
    "name": "ipython",
    "version": 3
   },
   "file_extension": ".py",
   "mimetype": "text/x-python",
   "name": "python",
   "nbconvert_exporter": "python",
   "pygments_lexer": "ipython3",
   "version": "3.11.5"
  }
 },
 "nbformat": 4,
 "nbformat_minor": 5
}
