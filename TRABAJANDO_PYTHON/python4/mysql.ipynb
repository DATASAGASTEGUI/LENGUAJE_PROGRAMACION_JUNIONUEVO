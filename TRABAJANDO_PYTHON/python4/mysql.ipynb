{
 "cells": [
  {
   "cell_type": "code",
   "execution_count": null,
   "id": "1d86af2b-3fb6-4d33-8e96-ad5639889750",
   "metadata": {},
   "outputs": [],
   "source": [
    "!pip install --upgrade pip\n",
    "!pip install mysql-connector-python"
   ]
  },
  {
   "cell_type": "code",
   "execution_count": 1,
   "id": "2bb81903-f6c9-46bf-bf12-ca13e2ba2ae0",
   "metadata": {},
   "outputs": [
    {
     "name": "stdout",
     "output_type": "stream",
     "text": [
      "Requirement already satisfied: mysql-connector-python in c:\\users\\curso mañana\\appdata\\local\\programs\\python\\python313\\lib\\site-packages (9.1.0)\n"
     ]
    }
   ],
   "source": [
    "!pip install mysql-connector-python"
   ]
  },
  {
   "cell_type": "code",
   "execution_count": null,
   "id": "b7cd2055-ebf5-461e-b958-35f295bb4927",
   "metadata": {},
   "outputs": [],
   "source": [
    "import os\n",
    "import mysql.connector\n",
    "\n",
    "def ejemplo1():\n",
    "    conexion = None\n",
    "    try:\n",
    "        conexion = mysql.connector.connect(\n",
    "        host=\"localhost\",\n",
    "        port=\"3306\",\n",
    "        user=\"root\",\n",
    "        password=\"12345678\",\n",
    "        database=\"test0001\")\n",
    "    except:\n",
    "        conexion = None\n",
    "\n",
    "    if conexion != None:\n",
    "       print('OK: CONEXION')\n",
    "    else:\n",
    "       print('ERROR: CONEXION')\n",
    "\n",
    "def main():\n",
    "    os.system(\"cls\")\n",
    "    ejemplo1()\n",
    "          \n",
    "if __name__ == \"__main__\":\n",
    "   main()"
   ]
  },
  {
   "cell_type": "code",
   "execution_count": null,
   "id": "fddfeec5-24b3-4edb-981c-688fb00e9134",
   "metadata": {},
   "outputs": [],
   "source": []
  },
  {
   "cell_type": "code",
   "execution_count": null,
   "id": "63e56d6b-2a70-406a-9f2e-29d1d4370c63",
   "metadata": {},
   "outputs": [],
   "source": []
  },
  {
   "cell_type": "code",
   "execution_count": null,
   "id": "313c5717-0173-48e6-b520-7f9759a78ea9",
   "metadata": {},
   "outputs": [],
   "source": [
    "!pip install --upgrade pip\n",
    "!pip install mysql-connector-python"
   ]
  },
  {
   "cell_type": "code",
   "execution_count": null,
   "id": "ebedcb41-238d-4767-bf85-0d7ce200d341",
   "metadata": {},
   "outputs": [],
   "source": []
  },
  {
   "cell_type": "code",
   "execution_count": null,
   "id": "c2b368d0-3b45-4e03-80bf-b0076eeee554",
   "metadata": {},
   "outputs": [],
   "source": []
  }
 ],
 "metadata": {
  "kernelspec": {
   "display_name": "Python 3 (ipykernel)",
   "language": "python",
   "name": "python3"
  },
  "language_info": {
   "codemirror_mode": {
    "name": "ipython",
    "version": 3
   },
   "file_extension": ".py",
   "mimetype": "text/x-python",
   "name": "python",
   "nbconvert_exporter": "python",
   "pygments_lexer": "ipython3",
   "version": "3.12.4"
  }
 },
 "nbformat": 4,
 "nbformat_minor": 5
}
