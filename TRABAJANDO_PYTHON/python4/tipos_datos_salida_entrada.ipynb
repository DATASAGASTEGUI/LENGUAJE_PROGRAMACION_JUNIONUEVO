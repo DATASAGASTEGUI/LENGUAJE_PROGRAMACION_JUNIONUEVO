{
 "cells": [
  {
   "cell_type": "markdown",
   "id": "e360f81c-aa34-432b-a717-0634d238536b",
   "metadata": {},
   "source": [
    "<center><span style=\"color:red; font-size:30px\">TIPOS DATOS - SALIDA - ENTRADA</span></center>"
   ]
  },
  {
   "cell_type": "code",
   "execution_count": 10,
   "id": "cb217d4f-d535-4cdb-af38-7e000ebaeda8",
   "metadata": {},
   "outputs": [
    {
     "name": "stdout",
     "output_type": "stream",
     "text": [
      "idAlumno:  <class 'str'>\n",
      "nombre:  <class 'str'>\n",
      "edad:  <class 'int'>\n",
      "estatura:  <class 'float'>\n",
      "casado:  <class 'bool'>\n",
      "sexo:  <class 'str'>\n",
      "A1;Miguel;23;1.72;True;H\n",
      "A1 Miguel 23 1.72 True H "
     ]
    }
   ],
   "source": [
    "idAlumno = \"A1\"\n",
    "nombre = \"Miguel\"\n",
    "edad = 23\n",
    "estatura = 1.72\n",
    "casado = True\n",
    "sexo = \"H\"\n",
    "\n",
    "print(\"idAlumno: \", type(idAlumno))\n",
    "print(\"nombre: \", type(nombre))\n",
    "print(\"edad: \", type(edad))\n",
    "print(\"estatura: \", type(estatura))\n",
    "print(\"casado: \", type(casado))\n",
    "print(\"sexo: \", type(sexo))\n",
    "\n",
    "unir = idAlumno + \";\" + nombre + \";\" + str(edad) + \";\" + str(estatura) + \";\" + str(casado) + \";\" + sexo\n",
    "print(unir)\n",
    "\n",
    "partes = unir.split(';')\n",
    "for elemento in partes:\n",
    "    print(elemento, end=' ')"
   ]
  },
  {
   "cell_type": "code",
   "execution_count": 17,
   "id": "9c0b1b17-39cd-4cac-9773-514c0173dd52",
   "metadata": {},
   "outputs": [
    {
     "name": "stdout",
     "output_type": "stream",
     "text": [
      "IDALUMNO     NOMBRE     EDAD  ESTATURA   CASADO     SEXO \n",
      "--------     ------     ----  --------   ------     ---- \n",
      "A1           Miguel     23    1.72       True       H    \n"
     ]
    }
   ],
   "source": [
    "print(\"%-12s %-10s %-5s %-10s %-10s %-5s\" % ('IDALUMNO', 'NOMBRE', 'EDAD', 'ESTATURA', 'CASADO', 'SEXO'))\n",
    "print(\"%-12s %-10s %-5s %-10s %-10s %-5s\" % ('--------', '------', '----', '--------', '------', '----'))\n",
    "print(\"%-12s %-10s %-5d %-10.2f %-10s %-5s\" % (idAlumno, nombre, edad, estatura, casado, sexo))"
   ]
  },
  {
   "cell_type": "code",
   "execution_count": 20,
   "id": "a87aa1e3-c964-473f-a5cf-245b9996e1c3",
   "metadata": {},
   "outputs": [
    {
     "name": "stdout",
     "output_type": "stream",
     "text": [
      "idAlumno:A1 nombre: Miguel\n"
     ]
    }
   ],
   "source": [
    "print(f\"idAlumno:{idAlumno} nombre: {nombre}\")"
   ]
  },
  {
   "cell_type": "code",
   "execution_count": 22,
   "id": "b1e1d0d5-e1d1-42fb-832e-128c88d03159",
   "metadata": {},
   "outputs": [
    {
     "name": "stdout",
     "output_type": "stream",
     "text": [
      "idAlumno: A1  nombre:  Miguel\n"
     ]
    }
   ],
   "source": [
    "print(\"idAlumno:\", idAlumno, \" nombre: \", nombre)"
   ]
  },
  {
   "cell_type": "code",
   "execution_count": 23,
   "id": "8b195fa5-eb2d-4df0-a6b7-325ea8da45d2",
   "metadata": {},
   "outputs": [
    {
     "name": "stdout",
     "output_type": "stream",
     "text": [
      "\n",
      "idAlumno: A1\n",
      "nombre  : Miguel\n",
      "\n"
     ]
    }
   ],
   "source": [
    "print(f\"\"\"\n",
    "idAlumno: {idAlumno}\n",
    "nombre  : {nombre}\n",
    "\"\"\")"
   ]
  },
  {
   "cell_type": "code",
   "execution_count": 34,
   "id": "db572c26-99d4-48e0-a845-bfb533eb1dcd",
   "metadata": {},
   "outputs": [
    {
     "name": "stdin",
     "output_type": "stream",
     "text": [
      "Ingresar un entero? 5\n",
      "Ingresar un punto flotante? 1.5\n",
      "Ingresar un lógico? False\n"
     ]
    },
    {
     "name": "stdout",
     "output_type": "stream",
     "text": [
      "Lógico:  <class 'bool'> False\n"
     ]
    }
   ],
   "source": [
    "import re\n",
    "def entradaLogico():\n",
    "    patron = \"True|False\"\n",
    "    logico = True\n",
    "    while True:\n",
    "          logico = input('Ingresar un lógico?')\n",
    "          correcto = re.fullmatch(patron, logico)\n",
    "          if not correcto:\n",
    "             print('Sólo debe ingresar True o False')\n",
    "          else:\n",
    "             break;\n",
    "    return True if logico == 'True' else False;\n",
    "\n",
    "entero = int(input('Ingresar un entero?'))\n",
    "punto_flotante = float(input('Ingresar un punto flotante?'))\n",
    "logico = entradaLogico()  \n",
    "print('Lógico: ', type(logico), logico);"
   ]
  },
  {
   "cell_type": "code",
   "execution_count": 40,
   "id": "0521ca36-856d-48fc-a201-316d8275a86b",
   "metadata": {},
   "outputs": [
    {
     "name": "stdout",
     "output_type": "stream",
     "text": [
      "True\n",
      "False\n",
      "True\n",
      "False\n",
      "True\n"
     ]
    }
   ],
   "source": [
    "print(bool(3412))\n",
    "print(bool(\"\"))\n",
    "print(bool(\" \"))\n",
    "print(bool([]))\n",
    "print(bool([1,8,8]))\n",
    "\n"
   ]
  },
  {
   "cell_type": "code",
   "execution_count": null,
   "id": "997b967b-52b9-4498-9a70-d77ce957d9aa",
   "metadata": {},
   "outputs": [],
   "source": []
  }
 ],
 "metadata": {
  "kernelspec": {
   "display_name": "Python 3 (ipykernel)",
   "language": "python",
   "name": "python3"
  },
  "language_info": {
   "codemirror_mode": {
    "name": "ipython",
    "version": 3
   },
   "file_extension": ".py",
   "mimetype": "text/x-python",
   "name": "python",
   "nbconvert_exporter": "python",
   "pygments_lexer": "ipython3",
   "version": "3.11.5"
  }
 },
 "nbformat": 4,
 "nbformat_minor": 5
}
