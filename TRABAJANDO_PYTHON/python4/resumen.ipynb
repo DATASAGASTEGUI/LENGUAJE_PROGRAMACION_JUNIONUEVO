{
 "cells": [
  {
   "cell_type": "markdown",
   "id": "a2f3957f",
   "metadata": {},
   "source": [
    "<center><span style=\"color:red; font-size:30px\">TIPOS DE DATOS</span></center>"
   ]
  },
  {
   "cell_type": "code",
   "execution_count": null,
   "id": "21d679d0-d114-42e3-906e-40a3195a65b8",
   "metadata": {},
   "outputs": [],
   "source": []
  },
  {
   "cell_type": "code",
   "execution_count": null,
   "id": "06a8526e-ddc7-452c-a0d7-4d6748248ff1",
   "metadata": {},
   "outputs": [],
   "source": []
  },
  {
   "cell_type": "code",
   "execution_count": null,
   "id": "9bc7c232",
   "metadata": {},
   "outputs": [],
   "source": [
    "x = 5\n",
    "type(x)"
   ]
  },
  {
   "cell_type": "code",
   "execution_count": null,
   "id": "8bf61ad8",
   "metadata": {},
   "outputs": [],
   "source": [
    "x = 1.7"
   ]
  },
  {
   "cell_type": "code",
   "execution_count": null,
   "id": "ecc025bf",
   "metadata": {},
   "outputs": [],
   "source": [
    "type(x)"
   ]
  },
  {
   "cell_type": "code",
   "execution_count": null,
   "id": "aefc022b",
   "metadata": {},
   "outputs": [],
   "source": [
    "x = \"Hola\"\n",
    "type(x)"
   ]
  },
  {
   "cell_type": "code",
   "execution_count": null,
   "id": "e16e77c1",
   "metadata": {},
   "outputs": [],
   "source": [
    "x = True\n",
    "type(x)"
   ]
  },
  {
   "cell_type": "code",
   "execution_count": null,
   "id": "5348677b",
   "metadata": {},
   "outputs": [],
   "source": [
    "int, float, str, bool, None\n",
    "\n",
    "x = \"5\"\n",
    "type(x) # str\n",
    "x = int(x)\n",
    "type(x) # int\n",
    "x = bool(x)\n",
    "type(x) #False    5,2,2222 True     0 False,   \"sdfs\" True   \"\" False  [2,3,4] True [] False\n",
    "\n",
    "\n",
    "x = None\n",
    "print(type(x))"
   ]
  },
  {
   "cell_type": "code",
   "execution_count": null,
   "id": "39064141",
   "metadata": {},
   "outputs": [],
   "source": [
    "x = 3 + 7j\n",
    "type(x)"
   ]
  },
  {
   "cell_type": "code",
   "execution_count": null,
   "id": "e8218a64",
   "metadata": {},
   "outputs": [],
   "source": [
    "# lISTA, TUPLA, SET, DICCIONARIO\n",
    "\n",
    "lista = [1, 2, 3]\n",
    "diccionario = {'nombre': 'Luis', 'edad': 23}\n",
    "tupla = (1,2,3)\n",
    "conjunto = {1,2,3}\n",
    "\n",
    "print(type(lista))\n",
    "print(type(diccionario))\n",
    "print(type(tupla))\n",
    "print(type(conjunto))"
   ]
  },
  {
   "cell_type": "code",
   "execution_count": null,
   "id": "d7babb1b",
   "metadata": {},
   "outputs": [],
   "source": [
    "x = []\n",
    "x.append(1)\n",
    "x.append(3)\n",
    "x.append(\"hola\")\n",
    "x.append(2.3)\n",
    "x.\n",
    "\n",
    "print(x)\n",
    "print()\n",
    "\n"
   ]
  },
  {
   "cell_type": "code",
   "execution_count": null,
   "id": "3db73900",
   "metadata": {},
   "outputs": [],
   "source": [
    "x = []\n",
    "x.append(1)\n",
    "x.append(3)\n",
    "x.append(\"hola\")\n",
    "x.append(2.3)\n",
    "\n",
    "diccionario = {'nombre': 'Luis', 'edad': 23}\n",
    "x.append({'nombre': 'Luis', 'edad': 23})\n",
    "x.append([5,7,\"Hola\"])\n",
    "\n",
    "print(x)\n",
    "print(type(x))\n",
    "\n",
    "lista = x[-1]\n",
    "for elemento in lista:\n",
    "    print(elemento)\n",
    "\n",
    "print(x[-2])\n",
    "del x[-2]\n",
    "print(x)\n"
   ]
  },
  {
   "cell_type": "code",
   "execution_count": null,
   "id": "9906045c",
   "metadata": {},
   "outputs": [],
   "source": [
    "x = (1,2,3)\n",
    "print(x)\n",
    "print(type(x))"
   ]
  },
  {
   "cell_type": "code",
   "execution_count": null,
   "id": "8db096a6",
   "metadata": {},
   "outputs": [],
   "source": [
    "x = 1,2,3\n",
    "print(x)\n",
    "print(type(x))"
   ]
  },
  {
   "cell_type": "code",
   "execution_count": null,
   "id": "e22c2bf0",
   "metadata": {},
   "outputs": [],
   "source": [
    "x = 1,2,3,\"hhola\",{'nombre':'Luis'}\n",
    "\n",
    "print(x[4])\n",
    "\n",
    "for elemento in x:\n",
    "    print(elemento, end=' ')\n",
    "    \n",
    "print()\n",
    "    \n",
    "for indice in range(len(x)):\n",
    "     print(x[indice], \"  \", indice)\n"
   ]
  },
  {
   "cell_type": "code",
   "execution_count": null,
   "id": "3e691861",
   "metadata": {},
   "outputs": [],
   "source": [
    "x = (5,) * 20\n",
    "print(x)"
   ]
  },
  {
   "cell_type": "code",
   "execution_count": null,
   "id": "0867d6cc",
   "metadata": {},
   "outputs": [],
   "source": [
    "x = [5] * 20\n",
    "print(x)"
   ]
  },
  {
   "cell_type": "code",
   "execution_count": null,
   "id": "9d414afb",
   "metadata": {},
   "outputs": [],
   "source": [
    "# DICCIONARIO\n",
    "\n",
    "persona = {\n",
    "    \"nombre\": \"Ana\",\n",
    "    \"edad\": 30,\n",
    "    \"ciudad\": \"Madrid\"\n",
    "}\n",
    "\n",
    "print(persona)\n",
    "\n",
    "print(persona['edad'])\n",
    "\n",
    "persona['edad'] = 40 # Modificar el valor que guarda la clave (las claves no se modifican)\n",
    "print(persona)\n",
    "\n",
    "for elemento in persona:\n",
    "    print(persona[elemento])\n",
    "    \n",
    "persona['estatura'] = 1.3 #Insertar\n",
    "print(persona)\n",
    "\n",
    "del persona['estatura']\n",
    "print(persona)\n",
    "\n",
    "x = {1:'One', 2:\"Twe\", (1,2):\"One,Twe\", (\"One\",\"Twe\"):(1,2), 1:[1,2,3]}\n",
    "print(x)\n",
    "    \n"
   ]
  },
  {
   "cell_type": "code",
   "execution_count": null,
   "id": "901a6762",
   "metadata": {},
   "outputs": [],
   "source": [
    "# CONJUNTOS\n",
    "\n",
    "x = {1, 2, 3}\n",
    "print(x)\n",
    "print(type(x))\n",
    "\n",
    "y = {}\n",
    "z = set()\n",
    "\n",
    "w = set([1,2,3,4,4,4,4,4,4])\n",
    "print(w)\n",
    "print(type(w))\n",
    "\n",
    "lista = [\"Luis\",\"Miguel\",\"Carlos\",\"Luis\"]\n",
    "print(lista)\n",
    "\n",
    "conjunto = set(lista)\n",
    "print(conjunto)\n",
    "print(list(conjunto))\n",
    "\n",
    "conjunto.add(\"Carla\") # Insertar\n",
    "print(conjunto)\n",
    "\n",
    "conjunto.remove(\"Carla\") # Eliminar\n",
    "print(conjunto)\n",
    "\n",
    "x = conjunto.pop() # Retirar fisicamente del conjunto\n",
    "print(x)\n",
    "print(conjunto)\n",
    "\n"
   ]
  },
  {
   "cell_type": "markdown",
   "id": "3b3d7d02",
   "metadata": {},
   "source": [
    "<span style=\"color:blue; font-size:15px\">EJERCICIO 1</span><br>\n",
    "Dado un conunto formado por los siguientes elementos {3,8,2,3}, se pide mostrar en pantalla sólo los números pares"
   ]
  },
  {
   "cell_type": "code",
   "execution_count": null,
   "id": "ecd11193",
   "metadata": {},
   "outputs": [],
   "source": [
    "conjunto = {3,8,2,3}\n",
    "# Si conjunto es vacio es False y si tiene elementos True\n",
    "while conjunto:\n",
    "      x = conjunto.pop()\n",
    "      if x % 2 == 0:\n",
    "         print(x)\n",
    "print(conjunto)"
   ]
  },
  {
   "cell_type": "code",
   "execution_count": null,
   "id": "c5bf4108",
   "metadata": {},
   "outputs": [],
   "source": [
    "conjunto = {3,8,2,3}\n",
    "# Si conjunto es vacio es False y si tiene elementos True\n",
    "for x in conjunto:\n",
    "     if x % 2 == 0:\n",
    "        print(x)\n",
    "print(conjunto)"
   ]
  },
  {
   "cell_type": "code",
   "execution_count": null,
   "id": "d7b7a87c",
   "metadata": {},
   "outputs": [],
   "source": [
    "# OPERACIONES SOBRE CONJUNTOS\n",
    "a = {1, 2, 3}\n",
    "b = {2, 3, 4}\n",
    "\n",
    "# UNION\n",
    "\n",
    "union = a | b\n",
    "print(union)\n",
    "\n",
    "# INTERSECCION\n",
    "\n",
    "interseccion = a & b\n",
    "print(interseccion)\n",
    "\n",
    "# DIFERENCIA\n",
    "\n",
    "diferencia = a - b\n",
    "print(diferencia)\n",
    "\n",
    "diferencia = b - a\n",
    "print(diferencia)\n",
    "\n"
   ]
  },
  {
   "cell_type": "markdown",
   "id": "d79cadb2",
   "metadata": {},
   "source": [
    "<span style=\"color:blue; font-size:15px\">EJERCICIO 2</span><br>\n",
    "Operadores de pertenencia."
   ]
  },
  {
   "cell_type": "code",
   "execution_count": null,
   "id": "31161167",
   "metadata": {},
   "outputs": [],
   "source": [
    "# in, not in\n",
    "\n",
    "lista = [1, 2, 3]\n",
    "diccionario = {'nombre': 'Luis', 'edad': 23}\n",
    "tupla = (1,2,3)\n",
    "conjunto = {1,2,3}\n",
    "\n",
    "if 9 in conjunto: # lista, tupla\n",
    "   print(\"Si\")\n",
    "else:\n",
    "   print(\"No\")\n",
    "\n",
    "if 'estatura' in diccionario:\n",
    "   print(\"Si\")\n",
    "else:\n",
    "   print(\"No\")\n",
    "   diccionario[\"estatura\"] = 1.72\n",
    "    o\n",
    "print(diccionario"
   ]
  },
  {
   "cell_type": "markdown",
   "id": "c79e77b4",
   "metadata": {},
   "source": [
    "<span style=\"color:blue; font-size:15px\">EJERCICIO 3</span><br>\n",
    "<div class=text-justify>\n",
    "Hacer un programa que guarde en una variable el diccionario {'Euro':'€', 'Dollar':'$', 'Yen':'¥', 'Ruble': '₽'}, que son monedas fiduciarias. Pregunte al usuario por una divisa y muestre su símbolo o un mensaje de aviso si la divisa no está en el diccionario.\n",
    "</div>"
   ]
  },
  {
   "cell_type": "code",
   "execution_count": null,
   "id": "7ffb78e7",
   "metadata": {},
   "outputs": [],
   "source": [
    "# print(\"Moneda China \\u00A5\")\n",
    "\n",
    "monedas_d = {'Euro':'€', 'Dollar':'$', 'Yen':'¥', 'Ruble': '₽'}\n",
    "\n",
    "print('Ingrese una de las siguentes monedas: ', end=' ')\n",
    "print()\n",
    "for clave in monedas_d:\n",
    "    print(clave, end=' ')\n",
    "moneda_clave = input(\"Ingresar moneda? \")\n",
    "valor = monedas_d.get(moneda_clave, 'La divisa no existe')\n",
    "print(\"Simbolo: \", valor)\n",
    "\n"
   ]
  },
  {
   "cell_type": "code",
   "execution_count": null,
   "id": "3bfeb1da",
   "metadata": {},
   "outputs": [],
   "source": [
    "import os\n",
    "\n",
    "monedas_d = {'Euro':'€', 'Dollar':'$', 'Yen':'¥', 'Ruble': '₽'}\n",
    "\n",
    "\n",
    "while True:\n",
    "    os.system('cls')\n",
    "    print('Ingrese una de las siguentes monedas: ', end=' ')\n",
    "    print()\n",
    "    for clave in monedas_d:\n",
    "        print(clave, end=' ')\n",
    "    print()\n",
    "    moneda_clave = input(\"Ingresar moneda? \")\n",
    "    valor = monedas_d.get(moneda_clave)\n",
    "    print(\"Simbolo: \", valor)\n",
    "    os.system('pause')\n",
    "    if valor != None:\n",
    "       break"
   ]
  },
  {
   "cell_type": "markdown",
   "id": "553df865",
   "metadata": {},
   "source": [
    "<span style=\"color:blue; font-size:15px\">EJERCICIO 4</span><br>\n",
    "<div class=text-justify>\n",
    "Hacer un programa que guarde en un diccionario los precios de las frutas de la tabla, pregunte al usuario por una fruta, un número de kilos y muestre por pantalla el precio de ese número de kilos de fruta. Si la fruta no está en el diccionario debe mostrar un mensaje informando de ello.\n",
    "</div>\n",
    "\n",
    "<table>\n",
    "  <thead>\n",
    "    <tr>\n",
    "      <th style='text-align: left;'>Fruta</th>\n",
    "      <th>Precio</th>\n",
    "    </tr>\n",
    "  </thead>\n",
    "  <tbody>\n",
    "    <tr>\n",
    "      <td style='text-align: left;'>Plátano</td>\n",
    "      <td>1.35</td>\n",
    "    </tr>\n",
    "    <tr>\n",
    "      <td style='text-align: left;'>Manzana</td>\n",
    "      <td>0.80</td>\n",
    "    </tr>\n",
    "    <tr>\n",
    "      <td style='text-align: left;'>Pera</td>\n",
    "      <td>0.85</td>\n",
    "    </tr>\n",
    "    <tr>\n",
    "      <td style='text-align: left;'>Naranja</td>\n",
    "      <td>0.70</td>\n",
    "    </tr>\n",
    "  </tbody>\n"
   ]
  },
  {
   "cell_type": "code",
   "execution_count": null,
   "id": "d877b9c0",
   "metadata": {},
   "outputs": [],
   "source": [
    "frutas_d = {\"Plátano\": 1.35, \"Manzana\": 0.80, \"Pera\": 0.85, \"Naranja\": 0.70}\n",
    "\n",
    "while True:\n",
    "    print(\"Elije una de las frutas:\", end=\" \")\n",
    "    for frutas in frutas_d:\n",
    "        print(frutas, end=\" \")\n",
    "    fruta = input(\"Ingrese fruta para comprar: \")\n",
    "    if fruta in frutas_d:\n",
    "        cantidad = int(input(\"Ingrese cantidad en kg:\"))\n",
    "        resultado = cantidad * frutas_d[fruta]\n",
    "        print(f\"Precio: {resultado}€ por {cantidad} kilogramos de {fruta}.\")\n",
    "        break\n",
    "    else:\n",
    "        print(\"Fruta no existe.\")\n",
    "        input(\"Presiona Enter para continuar...\")\n",
    " "
   ]
  },
  {
   "cell_type": "markdown",
   "id": "7f5ff2f0-fe2b-4ed1-b61d-b45b10d6f6b2",
   "metadata": {},
   "source": [
    "<center><span style=\"color:red; font-size:30px\">BUCLES</span></center>"
   ]
  },
  {
   "cell_type": "markdown",
   "id": "df351431-daec-4fa6-ae8a-b2d643ad7c2d",
   "metadata": {},
   "source": [
    "<span style=\"color:blue; font-size:15px\">EJERCICIO 1</span><br>\n",
    "\n",
    "WHILE"
   ]
  },
  {
   "cell_type": "code",
   "execution_count": null,
   "id": "a6b2e26c-a21a-40a4-bdbb-008905057f90",
   "metadata": {},
   "outputs": [],
   "source": [
    "n = int(input('Ingrese el n para la serie [1...n]? '))\n",
    "i = 1 # Inicio\n",
    "while i <= n: # Test(Inicio)\n",
    "      print(i, end=' ')\n",
    "      i += 1 # Incremento"
   ]
  },
  {
   "cell_type": "markdown",
   "id": "889ccd57-05a2-4b55-a305-710888d1a8df",
   "metadata": {},
   "source": [
    "<span style=\"color:blue; font-size:15px\">EJERCICIO 2</span><br>\n",
    "\n",
    "FOR"
   ]
  },
  {
   "cell_type": "code",
   "execution_count": null,
   "id": "af2c2f77-2c50-4151-9be0-97ca5adc3edc",
   "metadata": {},
   "outputs": [],
   "source": [
    "n = int(input('Ingrese el n para la serie [1...n]? '))\n",
    "for i in range(1,n+1,1): # Inicio, Test, Incremento\n",
    "    print(i, end=' ')"
   ]
  },
  {
   "cell_type": "markdown",
   "id": "7198e847-88bb-4b31-839c-8592b05a428c",
   "metadata": {},
   "source": [
    "<span style=\"color:blue; font-size:15px\">EJERCICIO 3</span><br>\n",
    "\n",
    "DO...WHILE"
   ]
  },
  {
   "cell_type": "code",
   "execution_count": null,
   "id": "aea8ce03-25a9-4ab8-89de-416da2bf8d2b",
   "metadata": {},
   "outputs": [],
   "source": [
    "# EVALUAR LA ENTRADA\n",
    "while True:\n",
    "      n = int(input('Ingrese el n > 0 para la serie [1...n]? '))\n",
    "      if n > 0:\n",
    "         break\n",
    "      else:\n",
    "         continue\n",
    "# PROCESO\n",
    "i = 1 # Inicio\n",
    "while True:\n",
    "      print(i, end=' ')\n",
    "      i += 1 # Incremento \n",
    "      if i > n: # Test(Final)\n",
    "         break;"
   ]
  },
  {
   "cell_type": "markdown",
   "id": "c9634ebd-f967-40ad-b4cb-be9d29c00f00",
   "metadata": {},
   "source": [
    "<span style=\"color:blue; font-size:15px\">EJERCICIO 4</span><br>\n",
    "\n",
    "MOSTRAR LA SERIE DEL ALFABETO ESPAÑOL CON EL WHILE"
   ]
  },
  {
   "cell_type": "code",
   "execution_count": 3,
   "id": "f3deea9d-51ac-4f4e-9f33-a4a9d9861ab3",
   "metadata": {},
   "outputs": [
    {
     "name": "stdout",
     "output_type": "stream",
     "text": [
      "A B C D E F G H I J K L M N Ñ O P Q R S T U V W X Y Z "
     ]
    }
   ],
   "source": [
    "n = 90\n",
    "i = 65 # Inicio\n",
    "while i < n+1: # Test(Inicio)\n",
    "      print(chr(i), end=' ')\n",
    "      if chr(i) == 'N':\n",
    "         print(chr(209), end=' ')\n",
    "      i += 1 # Incremento"
   ]
  },
  {
   "cell_type": "markdown",
   "id": "ae61023d-a271-40eb-a45b-2c4f6a7e1a68",
   "metadata": {},
   "source": [
    "<span style=\"color:blue; font-size:15px\">EJERCICIO 5</span><br>\n",
    "\n",
    "MOSTRAR LA SERIE [1,n] PERO QUE OMITA LOS PARES."
   ]
  },
  {
   "cell_type": "code",
   "execution_count": 5,
   "id": "2aab860f-44f2-4565-ba83-3e19f52c791a",
   "metadata": {},
   "outputs": [
    {
     "name": "stdin",
     "output_type": "stream",
     "text": [
      "Ingrese n para la serie [1,n]? 10\n"
     ]
    },
    {
     "name": "stdout",
     "output_type": "stream",
     "text": [
      "1 3 5 7 9 "
     ]
    }
   ],
   "source": [
    "n = int(input('Ingrese n para la serie [1,n]?'))\n",
    "for i in range(1,n+1,1):\n",
    "    if i % 2 == 0:\n",
    "       continue\n",
    "    print(i, end=' ')"
   ]
  },
  {
   "cell_type": "code",
   "execution_count": 6,
   "id": "9cf68fd0-849a-4eef-a14b-b98b9caeb1cf",
   "metadata": {},
   "outputs": [
    {
     "name": "stdin",
     "output_type": "stream",
     "text": [
      "Ingrese n para la serie [1,n]? 10\n"
     ]
    },
    {
     "name": "stdout",
     "output_type": "stream",
     "text": [
      "1 3 5 7 9 "
     ]
    }
   ],
   "source": [
    "n = int(input('Ingrese n para la serie [1,n]?'))\n",
    "for i in range(1,n+1,1):\n",
    "    if i % 2 != 0:\n",
    "       print(i, end=' ')"
   ]
  },
  {
   "cell_type": "code",
   "execution_count": 7,
   "id": "155b2e10-5be7-4f63-87dd-5a7f75044624",
   "metadata": {},
   "outputs": [
    {
     "name": "stdin",
     "output_type": "stream",
     "text": [
      "Ingrese n para la serie [1,n]? 10\n"
     ]
    },
    {
     "name": "stdout",
     "output_type": "stream",
     "text": [
      "1 3 5 7 9 "
     ]
    }
   ],
   "source": [
    "n = int(input('Ingrese n para la serie [1,n]?'))\n",
    "for i in range(1,n+1,2):\n",
    "    print(i, end=' ')"
   ]
  },
  {
   "cell_type": "markdown",
   "id": "9c42df51-df38-48e8-a045-ef3179ee68a8",
   "metadata": {},
   "source": [
    "<span style=\"color:blue; font-size:15px\">EJERCICIO 6</span><br>\n",
    "\n",
    "MOSTRAR LA SERIE [n,1]"
   ]
  },
  {
   "cell_type": "code",
   "execution_count": 10,
   "id": "b08d1e49-08f2-4ce4-ae66-633f6f122e07",
   "metadata": {},
   "outputs": [
    {
     "name": "stdin",
     "output_type": "stream",
     "text": [
      "Ingresar n para la serie [n,1]?  10\n"
     ]
    },
    {
     "name": "stdout",
     "output_type": "stream",
     "text": [
      "10 9 8 7 6 5 4 3 2 1 "
     ]
    }
   ],
   "source": [
    "n = int(input('Ingresar n para la serie [n,1]? '))\n",
    "for i in range(n, 0, -1): #Inicio, Test, Decremento  10 9 8 7 6 5 4 3 2 1 > 0\n",
    "    print(i, end=' ')"
   ]
  },
  {
   "cell_type": "code",
   "execution_count": 11,
   "id": "bb029736-f047-44c5-a269-42597873af01",
   "metadata": {},
   "outputs": [
    {
     "name": "stdin",
     "output_type": "stream",
     "text": [
      "Ingresar n para la serie [n,1]?  10\n"
     ]
    },
    {
     "name": "stdout",
     "output_type": "stream",
     "text": [
      "10 9 8 7 6 5 4 3 2 1 "
     ]
    }
   ],
   "source": [
    "n = int(input('Ingresar n para la serie [n,1]? '))\n",
    "i = n # Inicio i = 10\n",
    "while i > 0: # Test(Inicio)\n",
    "      print(i, end=' ')\n",
    "      i -= 1 # Decremento    "
   ]
  },
  {
   "cell_type": "markdown",
   "id": "274e3f6e-3194-46bf-a017-0cc96fc27d10",
   "metadata": {},
   "source": [
    "<span style=\"color:blue; font-size:15px\">EJERCICIO 7</span><br>\n",
    "\n",
    "MOSTRAR LOS NUMEROS PRIMOS ENTRE 2 Y 100:\n",
    "2, 3, 5, 7, 11, 13, 17, 19, 23, 29, 31, 37, 41, 43, 47, 53, 59, 61, 67, 71, 73, 79, 83, 89 y 97"
   ]
  },
  {
   "cell_type": "code",
   "execution_count": 15,
   "id": "d73f4d28-5933-4ac9-a36b-fc25651af22d",
   "metadata": {},
   "outputs": [
    {
     "name": "stdout",
     "output_type": "stream",
     "text": [
      "2 3 5 7 11 13 17 19 23 29 31 37 41 43 47 53 59 61 67 71 73 79 83 89 97 "
     ]
    }
   ],
   "source": [
    "for i in range(2,101,1):   # i = 2\n",
    "    c = 0\n",
    "    for j in range(1,i+1,1): # i = 2/1  2/2   contador: 2 primo\n",
    "                             #  i = 3/1  3/2  3/3\n",
    "                             #  i = 4/1  4/2  4/3  4/4   contador : 3\n",
    "        if i % j == 0:\n",
    "           c += 1\n",
    "    if c == 2:\n",
    "       print(i, end=' ')\n",
    "        \n",
    "           "
   ]
  },
  {
   "cell_type": "code",
   "execution_count": 16,
   "id": "561fe5c9-7c9e-4a55-be98-2765b1d033a0",
   "metadata": {},
   "outputs": [
    {
     "name": "stdout",
     "output_type": "stream",
     "text": [
      "2 3 5 7 11 13 17 19 23 29 31 37 41 43 47 53 59 61 67 71 73 79 83 89 97 "
     ]
    }
   ],
   "source": [
    "for i in range(2,101,1):   # i = 2\n",
    "    for j in range(2,i+1,1): # i = 2/1  2/2   contador: 2 primo\n",
    "                             #  i = 3/1  3/2  3/3\n",
    "                             #  i = 4/1  4/2  4/3  4/4   contador : 3\n",
    "        if i % j == 0:\n",
    "           break\n",
    "    if i == j:\n",
    "       print(i, end=' ')"
   ]
  },
  {
   "cell_type": "code",
   "execution_count": 17,
   "id": "bf416495-69aa-46e3-83de-2bee2710d7c9",
   "metadata": {},
   "outputs": [
    {
     "name": "stdout",
     "output_type": "stream",
     "text": [
      "2 3 5 7 11 13 17 19 23 29 31 37 41 43 47 53 59 61 67 71 73 79 83 89 97 "
     ]
    }
   ],
   "source": [
    "for num in range(2,101,1):   # i = 2\n",
    "    primo = True\n",
    "    for i in range(2,int(num**0.5)+1): \n",
    "        if num % i == 0:\n",
    "           primo = False\n",
    "           break\n",
    "    if primo:\n",
    "       print(num, end=' ')"
   ]
  },
  {
   "cell_type": "markdown",
   "id": "f33937b3-6eba-49b5-afd2-0949106da496",
   "metadata": {},
   "source": [
    "<center><span style=\"color:red; font-size:30px\">ALEATORIO</span></center>"
   ]
  },
  {
   "cell_type": "markdown",
   "id": "c1ae8bb3-5f70-4317-a44f-98337d26d971",
   "metadata": {},
   "source": [
    "<span style=\"color:blue; font-size:15px\">EJERCICIO 1</span><br>"
   ]
  },
  {
   "cell_type": "code",
   "execution_count": 21,
   "id": "1e9c390b-ae7b-4634-8b9a-06c6fec93596",
   "metadata": {},
   "outputs": [
    {
     "name": "stdout",
     "output_type": "stream",
     "text": [
      "[1, 22, 40, 9, 55]\n"
     ]
    }
   ],
   "source": [
    "import random\n",
    "numeros_l = [8, 9, 22, 1, 40, 55]\n",
    "numeros_aleatorios = 5\n",
    "numerosaleatorios_l = random.sample(numeros_l, numeros_aleatorios)\n",
    "print(numerosaleatorios_l)"
   ]
  },
  {
   "cell_type": "code",
   "execution_count": null,
   "id": "c535bc6d-1846-4b8a-8f7f-51873cf39961",
   "metadata": {},
   "outputs": [],
   "source": []
  }
 ],
 "metadata": {
  "kernelspec": {
   "display_name": "Python 3 (ipykernel)",
   "language": "python",
   "name": "python3"
  },
  "language_info": {
   "codemirror_mode": {
    "name": "ipython",
    "version": 3
   },
   "file_extension": ".py",
   "mimetype": "text/x-python",
   "name": "python",
   "nbconvert_exporter": "python",
   "pygments_lexer": "ipython3",
   "version": "3.12.4"
  }
 },
 "nbformat": 4,
 "nbformat_minor": 5
}
