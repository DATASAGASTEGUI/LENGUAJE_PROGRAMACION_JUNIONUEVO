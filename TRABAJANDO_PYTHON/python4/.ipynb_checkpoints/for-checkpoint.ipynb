{
 "cells": [
  {
   "cell_type": "markdown",
   "id": "b0c3c61b-9576-4dbf-9646-7a787d481b69",
   "metadata": {},
   "source": [
    "<center><span style=\"color:red; font-size:30px\">FOR</span></center>"
   ]
  },
  {
   "cell_type": "markdown",
   "id": "f2a0cb2a-1745-449c-b34b-9ec5a4fbfe06",
   "metadata": {},
   "source": [
    "<span style=\"color:blue; font-size:15px\">EJEMPLO 1</span><br>\n",
    "Hacer un programa para recorrer una cadena por elemento"
   ]
  },
  {
   "cell_type": "code",
   "execution_count": null,
   "id": "e8b097bf-9b33-4608-b927-dbb1be36bc97",
   "metadata": {},
   "outputs": [],
   "source": [
    "# ENTRADA\n",
    "cadena = input(\"Ingresar cadena?\")\n",
    "# PROCESO - SALIDA\n",
    "for caracter in cadena:\n",
    "    print(caracter)"
   ]
  },
  {
   "cell_type": "code",
   "execution_count": null,
   "id": "556a07fb-7a2c-421d-99c8-bb82cf7add82",
   "metadata": {},
   "outputs": [],
   "source": [
    "# ENTRADA\n",
    "cadena = input(\"Ingresar cadena?\")\n",
    "# PROCESO - SALIDA\n",
    "for caracter in cadena:\n",
    "    print(caracter, end=' ')"
   ]
  },
  {
   "cell_type": "markdown",
   "id": "15ef6552-65ff-4e70-843c-4c4ffdd1a264",
   "metadata": {},
   "source": [
    "<span style=\"color:blue; font-size:15px\">EJEMPLO 2</span><br>\n",
    "Hacer un programa para recorrer una cadena por índice"
   ]
  },
  {
   "cell_type": "code",
   "execution_count": null,
   "id": "bb7530bd-70bc-46a7-b26b-fbc2035206e6",
   "metadata": {},
   "outputs": [],
   "source": [
    "# ENTRADA\n",
    "cadena = input(\"Ingresar cadena?\")\n",
    "# PROCESO - SALIDA\n",
    "print(\"Longitud de la cadena: \", len(cadena))\n",
    "for indice in range(len(cadena)):\n",
    "    print(cadena[indice])"
   ]
  },
  {
   "cell_type": "markdown",
   "id": "1609449d-6f81-4d8c-b7cb-f5600e3e1a99",
   "metadata": {},
   "source": [
    "<span style=\"color:blue; font-size:15px\">EJEMPLO 3</span><br>\n",
    "Hacer un programa para generar una serie 0..N donde N ingresará por teclado."
   ]
  },
  {
   "cell_type": "code",
   "execution_count": null,
   "id": "87822481-3a8d-40f9-817a-ceb0688b2ca4",
   "metadata": {},
   "outputs": [],
   "source": [
    "# ENTRADA\n",
    "n = int(input(\"Ingrese n de la serie?\"))\n",
    "for i in range(n):          # Equivalente en java for(i=0; i<20; i++)\n",
    "    print(i, end=' ') # end='' para que no haga cambio de linea, en java = System.out.print"
   ]
  },
  {
   "cell_type": "markdown",
   "id": "94b11c75-70dd-4bca-84d1-bade62912e3a",
   "metadata": {},
   "source": [
    "<span style=\"color:blue; font-size:15px\">EJEMPLO 4</span><br>\n",
    "Hacer un programa para recorrer una lista."
   ]
  },
  {
   "cell_type": "code",
   "execution_count": null,
   "id": "748f296c-3cc6-40b4-9df2-d723ae9b42e2",
   "metadata": {},
   "outputs": [],
   "source": [
    "lista_numeros = [8,9,2,4,2,1]\n",
    "for numero in lista_numeros:\n",
    "    print(numero, end='  ')\n"
   ]
  },
  {
   "cell_type": "markdown",
   "id": "57cee0b1-c964-492f-8aee-4a67537fc6e3",
   "metadata": {},
   "source": [
    "<span style=\"color:blue; font-size:15px\">EJEMPLO 5</span><br>\n",
    "Hacer un programa para recorrer una lista, mostrando sólo los números pares."
   ]
  },
  {
   "cell_type": "code",
   "execution_count": null,
   "id": "fb0b8097-3656-43ea-8117-05eb5699e186",
   "metadata": {},
   "outputs": [],
   "source": [
    "lista_numeros = [8,9,2,4,2,1]\n",
    "for numero in lista_numeros:\n",
    "    if numero % 2 == 0:\n",
    "       print(numero, end='  ')"
   ]
  },
  {
   "cell_type": "markdown",
   "id": "295e11da-8f56-4ad0-9228-c4876a18cfdb",
   "metadata": {},
   "source": [
    "<span style=\"color:blue; font-size:15px\">EJEMPLO 6</span><br>\n",
    "Hacer un programa para llenar una lista con numeros aleatorios entre el rango[1,10]."
   ]
  },
  {
   "cell_type": "code",
   "execution_count": null,
   "id": "fe9caa8c-e7ec-4369-ac51-b3194fd18b13",
   "metadata": {},
   "outputs": [],
   "source": [
    "from random import randint\n",
    "longitud = int(input('Ingresar la longitud de la lista?'))\n",
    "lista = []\n",
    "for i in range(longitud):\n",
    "    numero = randint(1,10)\n",
    "    lista.append(numero)\n",
    "    print(numero)\n",
    "print(lista)"
   ]
  },
  {
   "cell_type": "markdown",
   "id": "b4c306a4-4fc4-473c-9b69-90d0e683f2e4",
   "metadata": {},
   "source": [
    "<span style=\"color:blue; font-size:15px\">EJEMPLO 7</span><br>\n",
    "Hacer un programa para llenar una lista con numeros aleatorios entre el rango[1,10], pero que no se repitan. Tambien que se guarden en dos variables una ordenada y otra sin ordenar."
   ]
  },
  {
   "cell_type": "code",
   "execution_count": null,
   "id": "1fa78534-6b3b-49f7-a7e0-7ed7f35611f7",
   "metadata": {},
   "outputs": [],
   "source": [
    "from random import randint\n",
    "longitud = int(input('Ingresar la longitud de la lista?'))\n",
    "lista_original = []\n",
    "lista_ordenada = []\n",
    "for i in range(longitud):\n",
    "    numero = randint(1,10)\n",
    "    print(numero)\n",
    "    if numero not in lista_original:\n",
    "       lista_original.append(numero)\n",
    "lista_ordenada = lista_original.copy()\n",
    "lista_ordenada.sort()\n",
    "print(lista_original)\n",
    "print(lista_ordenada)"
   ]
  },
  {
   "cell_type": "markdown",
   "id": "028080de-3e32-45de-9668-978c46487716",
   "metadata": {},
   "source": [
    "<span style=\"color:blue; font-size:15px\">EJEMPLO 8</span><br>\n",
    "Hacer un programa para llenar una lista con numeros aleatorios entre el rango [1,10], luego el programa debe separar la lista formada en 2 lista una de pares y otra de impares.\r",
    "."
   ]
  },
  {
   "cell_type": "code",
   "execution_count": null,
   "id": "04d6a17c-931f-4d07-aa12-4ea676a4285c",
   "metadata": {},
   "outputs": [],
   "source": [
    "from random import randint\n",
    "longitud = int(input('Ingresar la longitud de la lista?'))\n",
    "original = []\n",
    "for i in range(longitud):\n",
    "    numero = randint(1,10)\n",
    "    original.append(numero)\n",
    "pares = []\n",
    "impares = []\n",
    "for numero in original:\n",
    "      if numero % 2 == 0:\n",
    "         pares.append(numero)\n",
    "      else:\n",
    "         impares.append(numero)\n",
    "print(\"Lista original: \", original)\n",
    "print(\"Lista pares: \", pares)\n",
    "print(\"Lista impares: \", impares)"
   ]
  },
  {
   "cell_type": "markdown",
   "id": "28d2f69b-a3ef-411b-a5b3-ea9813369a32",
   "metadata": {},
   "source": [
    "<span style=\"color:blue; font-size:15px\">EJEMPLO 9</span><br>\n",
    "Hacer un programa para eliminar un elemento de una lista.\n",
    "La lista será aleatoria de 10 números que incluya duplicados."
   ]
  },
  {
   "cell_type": "code",
   "execution_count": 6,
   "id": "6c58a771-4408-4efb-83c9-ea08fa340ef3",
   "metadata": {},
   "outputs": [
    {
     "name": "stdout",
     "output_type": "stream",
     "text": [
      "[4, 9, 2, 4, 5, 5, 7, 8, 2, 5]\n"
     ]
    },
    {
     "name": "stdin",
     "output_type": "stream",
     "text": [
      "Ingresar número a eliminar? 5\n"
     ]
    },
    {
     "name": "stdout",
     "output_type": "stream",
     "text": [
      "[4, 9, 2, 4, 7, 8, 2]\n"
     ]
    }
   ],
   "source": [
    "import random\n",
    "# Llenar lista\n",
    "numeros = []\n",
    "for i in range(10):\n",
    "    numero = random.randint(1,10)\n",
    "    numeros.append(numero)\n",
    "print(numeros)\n",
    "numero_eliminar = int(input('Ingresar número a eliminar?'))\n",
    "while numero_eliminar in numeros:\n",
    "      numeros.remove(numero_eliminar)\n",
    "print(numeros)\n",
    "    "
   ]
  },
  {
   "cell_type": "markdown",
   "id": "ec033f15-f35a-46f3-b63d-11efe2aaf0e3",
   "metadata": {},
   "source": [
    "<span style=\"color:blue; font-size:15px\">EJEMPLO 10</span><br>\n",
    "Hacer un programa que me de todas las posibles combinaciones que se pueden obtener con las letras [a,b,c]"
   ]
  },
  {
   "cell_type": "code",
   "execution_count": 9,
   "id": "8a7b2b95-3cbe-401f-9679-12ed402829bd",
   "metadata": {},
   "outputs": [
    {
     "name": "stdout",
     "output_type": "stream",
     "text": [
      "aaa\n",
      "aab\n",
      "aac\n",
      "aba\n",
      "abb\n",
      "abc\n",
      "aca\n",
      "acb\n",
      "acc\n",
      "baa\n",
      "bab\n",
      "bac\n",
      "bba\n",
      "bbb\n",
      "bbc\n",
      "bca\n",
      "bcb\n",
      "bcc\n",
      "caa\n",
      "cab\n",
      "cac\n",
      "cba\n",
      "cbb\n",
      "cbc\n",
      "cca\n",
      "ccb\n",
      "ccc\n",
      "Combinaciones Posibles: 27\n"
     ]
    }
   ],
   "source": [
    "letras = ['a','b','c']\n",
    "c = 0\n",
    "for primera in letras:\n",
    "    for segunda in letras:\n",
    "        for tercera in letras:\n",
    "            print(primera + segunda + tercera)\n",
    "            c = c + 1\n",
    "print(\"Combinaciones Posibles: \",c)"
   ]
  },
  {
   "cell_type": "markdown",
   "id": "a70e2abe-123e-4a31-af82-64890b44dbb5",
   "metadata": {},
   "source": [
    "<span style=\"color:blue; font-size:15px\">EJEMPLO 11</span><br>\n",
    "Del ejemplo anterior mostrar solo las combinaciones donde ninguna letra se repite."
   ]
  },
  {
   "cell_type": "code",
   "execution_count": 10,
   "id": "24ac9fb8-f826-4a15-b96d-6b3310d17915",
   "metadata": {},
   "outputs": [
    {
     "name": "stdout",
     "output_type": "stream",
     "text": [
      "abc\n",
      "acb\n",
      "bac\n",
      "bca\n",
      "cab\n",
      "cba\n",
      "Combinaciones Posibles:  6\n"
     ]
    }
   ],
   "source": [
    "letras = ['a','b','c']\n",
    "c = 0\n",
    "for primera in letras:\n",
    "    for segunda in letras:\n",
    "        for tercera in letras:\n",
    "            if primera != segunda and primera != tercera and segunda != tercera:\n",
    "               print(primera + segunda + tercera)\n",
    "               c = c + 1\n",
    "print(\"Combinaciones Posibles: \",c)"
   ]
  },
  {
   "cell_type": "markdown",
   "id": "c7185258-58c5-40e8-ad72-a1737b573058",
   "metadata": {},
   "source": [
    "<span style=\"color:blue; font-size:15px\">EJEMPLO 12</span><br>\n",
    "Hacer un programa donde el usuario ingresara una clave de 5 letras en mayusculas y el programa tiene que averigura cual es dicha clave y el número de intentos fallidos."
   ]
  },
  {
   "cell_type": "code",
   "execution_count": 16,
   "id": "c99a1ecc-195a-41ac-a06d-53fe67c45dfe",
   "metadata": {},
   "outputs": [
    {
     "name": "stdin",
     "output_type": "stream",
     "text": [
      "Ingresa tu clave de 5 letras en mayuscula? ZZZZZ\n"
     ]
    },
    {
     "name": "stdout",
     "output_type": "stream",
     "text": [
      "Tu clave es:  ZZZZZ\n",
      "Número de intentos:  14348906\n"
     ]
    }
   ],
   "source": [
    "clave = input('Ingresa tu clave de 5 letras en mayuscula?')\n",
    "alfabeto = \"ABCDEFGHIJKLMNÑOPQRSTUVWXYZ\"\n",
    "c = 0\n",
    "bandera = False\n",
    "for p1 in alfabeto:\n",
    "    for p2 in alfabeto:\n",
    "        for p3 in alfabeto:\n",
    "            for p4 in alfabeto:\n",
    "                for p5 in alfabeto:\n",
    "                    unir = p1 + p2 + p3 + p4 + p5\n",
    "                    if clave == unir:\n",
    "                       print(\"Tu clave es: \", unir)\n",
    "                       bandera = True\n",
    "                    if bandera == False:\n",
    "                       c = c + 1\n",
    "\n",
    "print(\"Número de intentos: \", c)  "
   ]
  },
  {
   "cell_type": "markdown",
   "id": "040e30bb-5797-4e87-ae9d-d3cea342840e",
   "metadata": {},
   "source": [
    "<span style=\"color:blue; font-size:15px\">EJEMPLO 13</span><br>\n",
    "Hacer un programa que genere el alfabeto en español."
   ]
  },
  {
   "cell_type": "code",
   "execution_count": 21,
   "id": "a778a666-1fde-4e7d-adb7-19085bc7f72c",
   "metadata": {},
   "outputs": [
    {
     "name": "stdout",
     "output_type": "stream",
     "text": [
      "A B C D E F G H I J K L M N Ñ O P Q R S T U V W X Y Z "
     ]
    }
   ],
   "source": [
    "'''\n",
    "A            Z            Ñ\n",
    "65           90 = 26     209\n",
    "'''\n",
    "for codigo in range(65,91):\n",
    "    letra = chr(codigo)\n",
    "    print(letra, end=' ')\n",
    "    if letra == 'N':\n",
    "       print(chr(209), end=' ')\n"
   ]
  },
  {
   "cell_type": "markdown",
   "id": "16cf6a70-c5ef-4c27-97c0-bedfacd818b6",
   "metadata": {},
   "source": [
    "<span style=\"color:blue; font-size:15px\">EJEMPLO 14</span><br>\n",
    "Hacer un programa que genere un password aleatorio de 8 caracteres que sólo involucre letras de alfabeto en español en mayuscula."
   ]
  },
  {
   "cell_type": "code",
   "execution_count": 24,
   "id": "03f9490e-28c1-4e8a-bca5-3da1b0c22522",
   "metadata": {},
   "outputs": [
    {
     "name": "stdout",
     "output_type": "stream",
     "text": [
      "Password:  YXPTZÑXW\n"
     ]
    }
   ],
   "source": [
    "import random\n",
    "alfabeto = \"ABCDEFGHIJKLMNÑOPQRSTUVWXYZ\"\n",
    "password = \"\"\n",
    "for i in range(8):\n",
    "    indice = random.randint(0,26)\n",
    "    password = password + alfabeto[indice]\n",
    "print(\"Password: \", password)"
   ]
  },
  {
   "cell_type": "code",
   "execution_count": 25,
   "id": "80ab432e-5d78-4a09-84b0-5e265bc36e25",
   "metadata": {},
   "outputs": [
    {
     "name": "stdout",
     "output_type": "stream",
     "text": [
      "TZRAZEDÑ\n"
     ]
    }
   ],
   "source": [
    "import random\n",
    "contraseña = \"\"\n",
    "for i in range(8):\n",
    "    numero = random.randint(65,91)\n",
    "    if numero == 91:\n",
    "        contraseña = contraseña + chr(209)\n",
    "    else:\n",
    "        contraseña = contraseña + chr(numero)\n",
    "print(contraseña)"
   ]
  },
  {
   "cell_type": "code",
   "execution_count": 29,
   "id": "3adb31ff-d95d-4254-901f-7a92fae7f841",
   "metadata": {},
   "outputs": [
    {
     "name": "stdout",
     "output_type": "stream",
     "text": [
      "ABCDEFGHIJKLMNOPQRSTUVWXYZ\n",
      "J\n"
     ]
    }
   ],
   "source": [
    "import string\n",
    "import random\n",
    "print(string.ascii_uppercase)\n",
    "print(random.choice(string.ascii_uppercase))"
   ]
  },
  {
   "cell_type": "code",
   "execution_count": null,
   "id": "71320a32-f3ca-41c2-904c-6dc2ef382239",
   "metadata": {},
   "outputs": [],
   "source": []
  },
  {
   "cell_type": "code",
   "execution_count": null,
   "id": "9da11356-7f8e-4976-a905-d2786f9f6dff",
   "metadata": {},
   "outputs": [],
   "source": []
  }
 ],
 "metadata": {
  "kernelspec": {
   "display_name": "Python 3 (ipykernel)",
   "language": "python",
   "name": "python3"
  },
  "language_info": {
   "codemirror_mode": {
    "name": "ipython",
    "version": 3
   },
   "file_extension": ".py",
   "mimetype": "text/x-python",
   "name": "python",
   "nbconvert_exporter": "python",
   "pygments_lexer": "ipython3",
   "version": "3.12.4"
  }
 },
 "nbformat": 4,
 "nbformat_minor": 5
}
