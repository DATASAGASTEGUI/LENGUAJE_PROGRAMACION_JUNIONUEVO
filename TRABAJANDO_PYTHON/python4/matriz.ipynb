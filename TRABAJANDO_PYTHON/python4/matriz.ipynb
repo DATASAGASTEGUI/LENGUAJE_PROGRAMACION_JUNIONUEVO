{
 "cells": [
  {
   "cell_type": "markdown",
   "id": "dbfa8ef3",
   "metadata": {},
   "source": [
    "<center><span style=\"color:red; font-size:30px\">MATRIZ</span></center>"
   ]
  },
  {
   "cell_type": "markdown",
   "id": "695af8c2",
   "metadata": {},
   "source": [
    "<span style=\"color:blue; font-size:15px\">EJEMPLO 1</span><br>\n",
    "LLENAR UNA MATRIZ DESDE EL TECLADO\n",
    "\n",
    "<pre>\n",
    "[\n",
    "  [1, 2, 3],\n",
    "  [4, 5, 6],\n",
    "  [7, 8, 9]\n",
    "]\n",
    "</pre>\n"
   ]
  },
  {
   "cell_type": "code",
   "execution_count": 8,
   "id": "6fec0647",
   "metadata": {},
   "outputs": [
    {
     "name": "stdout",
     "output_type": "stream",
     "text": [
      "LLENAR MATRIZ\n",
      "-------------\n",
      "\n",
      "Ingresar el número de filas?3\n",
      "Ingresar el número de columnas3\n",
      "Ingresar el valor en la posición [0][0]? 1\n",
      "Ingresar el valor en la posición [0][1]? 2\n",
      "Ingresar el valor en la posición [0][2]? 3\n",
      "Ingresar el valor en la posición [1][0]? 4\n",
      "Ingresar el valor en la posición [1][1]? 5\n",
      "Ingresar el valor en la posición [1][2]? 6\n",
      "Ingresar el valor en la posición [2][0]? 7\n",
      "Ingresar el valor en la posición [2][1]? 8\n",
      "Ingresar el valor en la posición [2][2]? 9\n",
      "\n",
      "RECORRER MATRIZ\n",
      "---------------\n",
      "\n",
      "FORMA 1\n",
      "\n",
      "Posición [0][0] = 1\n",
      "Posición [0][1] = 2\n",
      "Posición [0][2] = 3\n",
      "Posición [1][0] = 4\n",
      "Posición [1][1] = 5\n",
      "Posición [1][2] = 6\n",
      "Posición [2][0] = 7\n",
      "Posición [2][1] = 8\n",
      "Posición [2][2] = 9\n",
      "\n",
      "FORMA 2\n",
      "\n",
      "   1    2    3 \n",
      "   4    5    6 \n",
      "   7    8    9 \n"
     ]
    }
   ],
   "source": [
    "# llenar matriz\n",
    "\n",
    "print('LLENAR MATRIZ')\n",
    "print('-------------\\n')\n",
    "\n",
    "filas = int(input('Ingresar el número de filas?'))\n",
    "columnas = int(input('Ingresar el número de columnas'))\n",
    "matriz = []\n",
    "for i in range(filas): # 0 1 2\n",
    "    fila = []\n",
    "    for j in range(columnas): # 0 1 2 \n",
    "        valor = int(input(f'Ingresar el valor en la posición [{i}][{j}]? '))\n",
    "        fila.append(valor)\n",
    "    matriz.append(fila)\n",
    "    \n",
    "# Recorrer matriz\n",
    "print()\n",
    "\n",
    "print('RECORRER MATRIZ')\n",
    "print('---------------\\n')\n",
    "\n",
    "print('FORMA 1\\n')\n",
    "for i in range(filas):\n",
    "    for j in range(columnas):\n",
    "        print(f'Posición [{i}][{j}] = {matriz[i][j]}')\n",
    "        \n",
    "print()\n",
    "        \n",
    "print('FORMA 2\\n')\n",
    "for i in range(filas):\n",
    "    for j in range(columnas):\n",
    "        print(\"%4d \" % (matriz[i][j]), end='')\n",
    "    print()\n",
    "    "
   ]
  },
  {
   "cell_type": "code",
   "execution_count": null,
   "id": "662857c2",
   "metadata": {},
   "outputs": [],
   "source": []
  }
 ],
 "metadata": {
  "kernelspec": {
   "display_name": "Python 3 (ipykernel)",
   "language": "python",
   "name": "python3"
  },
  "language_info": {
   "codemirror_mode": {
    "name": "ipython",
    "version": 3
   },
   "file_extension": ".py",
   "mimetype": "text/x-python",
   "name": "python",
   "nbconvert_exporter": "python",
   "pygments_lexer": "ipython3",
   "version": "3.11.5"
  }
 },
 "nbformat": 4,
 "nbformat_minor": 5
}
